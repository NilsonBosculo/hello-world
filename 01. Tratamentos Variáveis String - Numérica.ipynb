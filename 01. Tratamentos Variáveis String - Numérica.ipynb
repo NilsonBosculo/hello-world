{
 "cells": [
  {
   "cell_type": "code",
   "execution_count": 1,
   "id": "468d626a",
   "metadata": {},
   "outputs": [],
   "source": [
    "import pandas as pd"
   ]
  },
  {
   "cell_type": "code",
   "execution_count": 2,
   "id": "befa29c0",
   "metadata": {},
   "outputs": [
    {
     "data": {
      "text/html": [
       "<div>\n",
       "<style scoped>\n",
       "    .dataframe tbody tr th:only-of-type {\n",
       "        vertical-align: middle;\n",
       "    }\n",
       "\n",
       "    .dataframe tbody tr th {\n",
       "        vertical-align: top;\n",
       "    }\n",
       "\n",
       "    .dataframe thead th {\n",
       "        text-align: right;\n",
       "    }\n",
       "</style>\n",
       "<table border=\"1\" class=\"dataframe\">\n",
       "  <thead>\n",
       "    <tr style=\"text-align: right;\">\n",
       "      <th></th>\n",
       "      <th>Papel</th>\n",
       "      <th>Quantidade</th>\n",
       "      <th>Preço de Compra</th>\n",
       "      <th>Preço de Venda</th>\n",
       "    </tr>\n",
       "  </thead>\n",
       "  <tbody>\n",
       "    <tr>\n",
       "      <th>0</th>\n",
       "      <td>LREN3</td>\n",
       "      <td>200</td>\n",
       "      <td>R$ 15,00</td>\n",
       "      <td>R$ 20,00</td>\n",
       "    </tr>\n",
       "    <tr>\n",
       "      <th>1</th>\n",
       "      <td>MDIA3</td>\n",
       "      <td>100</td>\n",
       "      <td>R$ 20,00</td>\n",
       "      <td></td>\n",
       "    </tr>\n",
       "    <tr>\n",
       "      <th>2</th>\n",
       "      <td>VLID3</td>\n",
       "      <td>300</td>\n",
       "      <td>R$ 17,00</td>\n",
       "      <td>R$ 23,00</td>\n",
       "    </tr>\n",
       "    <tr>\n",
       "      <th>3</th>\n",
       "      <td>FLRY3</td>\n",
       "      <td>400</td>\n",
       "      <td>R$ 14,00</td>\n",
       "      <td></td>\n",
       "    </tr>\n",
       "  </tbody>\n",
       "</table>\n",
       "</div>"
      ],
      "text/plain": [
       "   Papel  Quantidade Preço de Compra Preço de Venda\n",
       "0  LREN3         200        R$ 15,00       R$ 20,00\n",
       "1  MDIA3         100        R$ 20,00               \n",
       "2  VLID3         300        R$ 17,00       R$ 23,00\n",
       "3  FLRY3         400        R$ 14,00               "
      ]
     },
     "execution_count": 2,
     "metadata": {},
     "output_type": "execute_result"
    }
   ],
   "source": [
    "# Criando um dataset qualquer a partir de um dicionário\n",
    "\n",
    "Base = {'Papel':['LREN3', 'MDIA3', 'VLID3', 'FLRY3'],\n",
    "        'Quantidade':[200, 100, 300, 400],\n",
    "        'Preço de Compra':['R$ 15,00','R$ 20,00', 'R$ 17,00', 'R$ 14,00'],\n",
    "        'Preço de Venda': ['R$ 20,00', '', 'R$ 23,00', '']}\n",
    "\n",
    "Base = pd.DataFrame(Base)\n",
    "Base"
   ]
  },
  {
   "cell_type": "code",
   "execution_count": 3,
   "id": "97b9e05b",
   "metadata": {},
   "outputs": [
    {
     "data": {
      "text/plain": [
       "0    15,00\n",
       "1    20,00\n",
       "2    17,00\n",
       "3    14,00\n",
       "Name: Preço de Compra, dtype: object"
      ]
     },
     "execution_count": 3,
     "metadata": {},
     "output_type": "execute_result"
    }
   ],
   "source": [
    "# Tratando as variáveis strings que contêm valor\n",
    "# Primeiro passo: remover os caracteres R$ da variável\n",
    "# O 'split(' ')' transforma a string numa lista separando a partir do ' '. O [1] fica com 2° item da lista\n",
    "\n",
    "Base['Preço de Compra'].apply(lambda x: str(x).split(' ')[1])\n",
    "                                            "
   ]
  },
  {
   "cell_type": "code",
   "execution_count": 4,
   "id": "2bc00d45",
   "metadata": {},
   "outputs": [
    {
     "data": {
      "text/plain": [
       "0    15,00\n",
       "1    20,00\n",
       "2    17,00\n",
       "3    14,00\n",
       "Name: Preço de Compra, dtype: object"
      ]
     },
     "execution_count": 4,
     "metadata": {},
     "output_type": "execute_result"
    }
   ],
   "source": [
    "# Um outro modo de resolver o Primeiro passo\n",
    "Base['Preço de Compra'].apply(lambda x: str(x).replace('R$ ',''))"
   ]
  },
  {
   "cell_type": "code",
   "execution_count": 6,
   "id": "08122b8f",
   "metadata": {},
   "outputs": [
    {
     "data": {
      "text/plain": [
       "50"
      ]
     },
     "execution_count": 6,
     "metadata": {},
     "output_type": "execute_result"
    }
   ],
   "source": [
    "# O comando abaixo mostra a quantidade máxima de caracteres por 'coluna'\n",
    "pd.get_option('max_colwidth')"
   ]
  },
  {
   "cell_type": "code",
   "execution_count": 19,
   "id": "20268c4e",
   "metadata": {},
   "outputs": [],
   "source": [
    "# O comando abaixo define um novo tamanho de coluna para ser mostrado no console\n",
    "pd.set_option('max_colwidth',120)"
   ]
  },
  {
   "cell_type": "code",
   "execution_count": 13,
   "id": "fee69c3c",
   "metadata": {},
   "outputs": [
    {
     "name": "stdout",
     "output_type": "stream",
     "text": [
      "   Papel  Quantidade Preço de Compra Preço de Venda\n",
      "0  LREN3         200           15,00          20,00\n",
      "1  MDIA3         100           20,00               \n",
      "2  VLID3         300           17,00          23,00\n",
      "3  FLRY3         400           14,00               \n"
     ]
    }
   ],
   "source": [
    "# Para uma lista de variáveis\n",
    "ListaVars = ['Preço de Compra', 'Preço de Venda']\n",
    "\n",
    "for i in ListaVars:\n",
    "    Base[i] = Base[i].apply(lambda x: str(x).replace('R$ ',''))\n",
    "    \n",
    "print(Base)\n",
    "        "
   ]
  },
  {
   "cell_type": "code",
   "execution_count": null,
   "id": "a4181bcb",
   "metadata": {},
   "outputs": [],
   "source": []
  }
 ],
 "metadata": {
  "kernelspec": {
   "display_name": "Python 3 (ipykernel)",
   "language": "python",
   "name": "python3"
  },
  "language_info": {
   "codemirror_mode": {
    "name": "ipython",
    "version": 3
   },
   "file_extension": ".py",
   "mimetype": "text/x-python",
   "name": "python",
   "nbconvert_exporter": "python",
   "pygments_lexer": "ipython3",
   "version": "3.9.13"
  }
 },
 "nbformat": 4,
 "nbformat_minor": 5
}
