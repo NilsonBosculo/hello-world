{
 "cells": [
  {
   "cell_type": "code",
   "execution_count": 1,
   "id": "468d626a",
   "metadata": {},
   "outputs": [],
   "source": [
    "import pandas as pd"
   ]
  },
  {
   "cell_type": "code",
   "execution_count": 21,
   "id": "befa29c0",
   "metadata": {},
   "outputs": [
    {
     "data": {
      "text/html": [
       "<div>\n",
       "<style scoped>\n",
       "    .dataframe tbody tr th:only-of-type {\n",
       "        vertical-align: middle;\n",
       "    }\n",
       "\n",
       "    .dataframe tbody tr th {\n",
       "        vertical-align: top;\n",
       "    }\n",
       "\n",
       "    .dataframe thead th {\n",
       "        text-align: right;\n",
       "    }\n",
       "</style>\n",
       "<table border=\"1\" class=\"dataframe\">\n",
       "  <thead>\n",
       "    <tr style=\"text-align: right;\">\n",
       "      <th></th>\n",
       "      <th>Papel</th>\n",
       "      <th>Quantidade</th>\n",
       "      <th>Preço de Compra</th>\n",
       "      <th>Preço de Venda</th>\n",
       "    </tr>\n",
       "  </thead>\n",
       "  <tbody>\n",
       "    <tr>\n",
       "      <th>0</th>\n",
       "      <td>LREN3</td>\n",
       "      <td>200</td>\n",
       "      <td>R$ 15,00</td>\n",
       "      <td>R$ 20,00</td>\n",
       "    </tr>\n",
       "    <tr>\n",
       "      <th>1</th>\n",
       "      <td>MDIA3</td>\n",
       "      <td>100</td>\n",
       "      <td>R$ 20,00</td>\n",
       "      <td></td>\n",
       "    </tr>\n",
       "    <tr>\n",
       "      <th>2</th>\n",
       "      <td>VLID3</td>\n",
       "      <td>300</td>\n",
       "      <td>R$ 17,00</td>\n",
       "      <td>R$ 23,00</td>\n",
       "    </tr>\n",
       "    <tr>\n",
       "      <th>3</th>\n",
       "      <td>FLRY3</td>\n",
       "      <td>400</td>\n",
       "      <td>R$ 14,00</td>\n",
       "      <td></td>\n",
       "    </tr>\n",
       "  </tbody>\n",
       "</table>\n",
       "</div>"
      ],
      "text/plain": [
       "   Papel  Quantidade Preço de Compra Preço de Venda\n",
       "0  LREN3         200        R$ 15,00       R$ 20,00\n",
       "1  MDIA3         100        R$ 20,00               \n",
       "2  VLID3         300        R$ 17,00       R$ 23,00\n",
       "3  FLRY3         400        R$ 14,00               "
      ]
     },
     "execution_count": 21,
     "metadata": {},
     "output_type": "execute_result"
    }
   ],
   "source": [
    "# Criando um dataset qualquer a partir de um dicionário\n",
    "\n",
    "Base = {'Papel':['LREN3', 'MDIA3', 'VLID3', 'FLRY3'],\n",
    "        'Quantidade':[200, 100, 300, 400],\n",
    "        'Preço de Compra':['R$ 15,00','R$ 20,00', 'R$ 17,00', 'R$ 14,00'],\n",
    "        'Preço de Venda': ['R$ 20,00', '', 'R$ 23,00', '']}\n",
    "\n",
    "Base = pd.DataFrame(Base)\n",
    "Base"
   ]
  },
  {
   "cell_type": "code",
   "execution_count": 22,
   "id": "97b9e05b",
   "metadata": {},
   "outputs": [
    {
     "data": {
      "text/plain": [
       "0    15,00\n",
       "1    20,00\n",
       "2    17,00\n",
       "3    14,00\n",
       "Name: Preço de Compra, dtype: object"
      ]
     },
     "execution_count": 22,
     "metadata": {},
     "output_type": "execute_result"
    }
   ],
   "source": [
    "# Tratando as variáveis strings que contêm valor\n",
    "# Primeiro passo: remover os caracteres R$ da variável\n",
    "# O 'split(' ')' transforma a string numa lista separando a partir do ' '. O [1] fica com 2° item da lista\n",
    "\n",
    "Base['Preço de Compra'].apply(lambda x: str(x).split(' ')[1])                                            "
   ]
  },
  {
   "cell_type": "code",
   "execution_count": 23,
   "id": "2bc00d45",
   "metadata": {},
   "outputs": [
    {
     "data": {
      "text/plain": [
       "0    15,00\n",
       "1    20,00\n",
       "2    17,00\n",
       "3    14,00\n",
       "Name: Preço de Compra, dtype: object"
      ]
     },
     "execution_count": 23,
     "metadata": {},
     "output_type": "execute_result"
    }
   ],
   "source": [
    "# Um outro modo de resolver o Primeiro passo (o método não é 'inplace')\n",
    "Base['Preço de Compra'].apply(lambda x: str(x).replace('R$ ',''))"
   ]
  },
  {
   "cell_type": "code",
   "execution_count": 24,
   "id": "fee69c3c",
   "metadata": {},
   "outputs": [
    {
     "data": {
      "text/html": [
       "<div>\n",
       "<style scoped>\n",
       "    .dataframe tbody tr th:only-of-type {\n",
       "        vertical-align: middle;\n",
       "    }\n",
       "\n",
       "    .dataframe tbody tr th {\n",
       "        vertical-align: top;\n",
       "    }\n",
       "\n",
       "    .dataframe thead th {\n",
       "        text-align: right;\n",
       "    }\n",
       "</style>\n",
       "<table border=\"1\" class=\"dataframe\">\n",
       "  <thead>\n",
       "    <tr style=\"text-align: right;\">\n",
       "      <th></th>\n",
       "      <th>Papel</th>\n",
       "      <th>Quantidade</th>\n",
       "      <th>Preço de Compra</th>\n",
       "      <th>Preço de Venda</th>\n",
       "    </tr>\n",
       "  </thead>\n",
       "  <tbody>\n",
       "    <tr>\n",
       "      <th>0</th>\n",
       "      <td>LREN3</td>\n",
       "      <td>200</td>\n",
       "      <td>15,00</td>\n",
       "      <td>20,00</td>\n",
       "    </tr>\n",
       "    <tr>\n",
       "      <th>1</th>\n",
       "      <td>MDIA3</td>\n",
       "      <td>100</td>\n",
       "      <td>20,00</td>\n",
       "      <td></td>\n",
       "    </tr>\n",
       "    <tr>\n",
       "      <th>2</th>\n",
       "      <td>VLID3</td>\n",
       "      <td>300</td>\n",
       "      <td>17,00</td>\n",
       "      <td>23,00</td>\n",
       "    </tr>\n",
       "    <tr>\n",
       "      <th>3</th>\n",
       "      <td>FLRY3</td>\n",
       "      <td>400</td>\n",
       "      <td>14,00</td>\n",
       "      <td></td>\n",
       "    </tr>\n",
       "  </tbody>\n",
       "</table>\n",
       "</div>"
      ],
      "text/plain": [
       "   Papel  Quantidade Preço de Compra Preço de Venda\n",
       "0  LREN3         200           15,00          20,00\n",
       "1  MDIA3         100           20,00               \n",
       "2  VLID3         300           17,00          23,00\n",
       "3  FLRY3         400           14,00               "
      ]
     },
     "execution_count": 24,
     "metadata": {},
     "output_type": "execute_result"
    }
   ],
   "source": [
    "# Resolvendo para uma lista de variáveis\n",
    "ListaVars = ['Preço de Compra', 'Preço de Venda']\n",
    "\n",
    "for i in ListaVars:\n",
    "    Base[i] = Base[i].apply(lambda x: str(x).replace('R$ ',''))\n",
    "    \n",
    "Base\n",
    "        "
   ]
  },
  {
   "cell_type": "code",
   "execution_count": 25,
   "id": "4ee2a8d4",
   "metadata": {},
   "outputs": [
    {
     "data": {
      "text/html": [
       "<div>\n",
       "<style scoped>\n",
       "    .dataframe tbody tr th:only-of-type {\n",
       "        vertical-align: middle;\n",
       "    }\n",
       "\n",
       "    .dataframe tbody tr th {\n",
       "        vertical-align: top;\n",
       "    }\n",
       "\n",
       "    .dataframe thead th {\n",
       "        text-align: right;\n",
       "    }\n",
       "</style>\n",
       "<table border=\"1\" class=\"dataframe\">\n",
       "  <thead>\n",
       "    <tr style=\"text-align: right;\">\n",
       "      <th></th>\n",
       "      <th>Papel</th>\n",
       "      <th>Quantidade</th>\n",
       "      <th>Preço de Compra</th>\n",
       "      <th>Preço de Venda</th>\n",
       "    </tr>\n",
       "  </thead>\n",
       "  <tbody>\n",
       "    <tr>\n",
       "      <th>0</th>\n",
       "      <td>LREN3</td>\n",
       "      <td>200</td>\n",
       "      <td>15.00</td>\n",
       "      <td>20.00</td>\n",
       "    </tr>\n",
       "    <tr>\n",
       "      <th>1</th>\n",
       "      <td>MDIA3</td>\n",
       "      <td>100</td>\n",
       "      <td>20.00</td>\n",
       "      <td></td>\n",
       "    </tr>\n",
       "    <tr>\n",
       "      <th>2</th>\n",
       "      <td>VLID3</td>\n",
       "      <td>300</td>\n",
       "      <td>17.00</td>\n",
       "      <td>23.00</td>\n",
       "    </tr>\n",
       "    <tr>\n",
       "      <th>3</th>\n",
       "      <td>FLRY3</td>\n",
       "      <td>400</td>\n",
       "      <td>14.00</td>\n",
       "      <td></td>\n",
       "    </tr>\n",
       "  </tbody>\n",
       "</table>\n",
       "</div>"
      ],
      "text/plain": [
       "   Papel  Quantidade Preço de Compra Preço de Venda\n",
       "0  LREN3         200           15.00          20.00\n",
       "1  MDIA3         100           20.00               \n",
       "2  VLID3         300           17.00          23.00\n",
       "3  FLRY3         400           14.00               "
      ]
     },
     "execution_count": 25,
     "metadata": {},
     "output_type": "execute_result"
    }
   ],
   "source": [
    "# Novamente, agora substituindo a ',' por '.'\n",
    "ListaVars = ['Preço de Compra', 'Preço de Venda']\n",
    "\n",
    "for i in ListaVars:\n",
    "    Base[i] = Base[i].apply(lambda x: str(x).replace(',','.'))\n",
    "    \n",
    "Base\n"
   ]
  },
  {
   "cell_type": "code",
   "execution_count": 30,
   "id": "e39a0cee",
   "metadata": {},
   "outputs": [
    {
     "name": "stdout",
     "output_type": "stream",
     "text": [
      "<class 'pandas.core.frame.DataFrame'>\n",
      "RangeIndex: 4 entries, 0 to 3\n",
      "Data columns (total 4 columns):\n",
      " #   Column           Non-Null Count  Dtype  \n",
      "---  ------           --------------  -----  \n",
      " 0   Papel            4 non-null      object \n",
      " 1   Quantidade       4 non-null      int64  \n",
      " 2   Preço de Compra  4 non-null      float64\n",
      " 3   Preço de Venda   4 non-null      object \n",
      "dtypes: float64(1), int64(1), object(2)\n",
      "memory usage: 256.0+ bytes\n"
     ]
    }
   ],
   "source": [
    "# Agora, com formatação adequada, convertemos as colunas em numéricas\n",
    "Base['Preço de Compra'] = Base['Preço de Compra'].astype('float64')\n",
    "Base.info()"
   ]
  },
  {
   "cell_type": "code",
   "execution_count": 31,
   "id": "cef09671",
   "metadata": {},
   "outputs": [
    {
     "name": "stdout",
     "output_type": "stream",
     "text": [
      "<class 'pandas.core.frame.DataFrame'>\n",
      "RangeIndex: 4 entries, 0 to 3\n",
      "Data columns (total 4 columns):\n",
      " #   Column           Non-Null Count  Dtype  \n",
      "---  ------           --------------  -----  \n",
      " 0   Papel            4 non-null      object \n",
      " 1   Quantidade       4 non-null      int64  \n",
      " 2   Preço de Compra  4 non-null      float64\n",
      " 3   Preço de Venda   2 non-null      float64\n",
      "dtypes: float64(2), int64(1), object(1)\n",
      "memory usage: 256.0+ bytes\n"
     ]
    }
   ],
   "source": [
    "# A segunda coluna, como contém valores nulos, é necessário utilizar outro comando para trata-los\n",
    "Base['Preço de Venda'] = pd.to_numeric(Base['Preço de Venda'], errors='coerce')\n",
    "Base.info()"
   ]
  }
 ],
 "metadata": {
  "kernelspec": {
   "display_name": "Python 3 (ipykernel)",
   "language": "python",
   "name": "python3"
  },
  "language_info": {
   "codemirror_mode": {
    "name": "ipython",
    "version": 3
   },
   "file_extension": ".py",
   "mimetype": "text/x-python",
   "name": "python",
   "nbconvert_exporter": "python",
   "pygments_lexer": "ipython3",
   "version": "3.9.13"
  }
 },
 "nbformat": 4,
 "nbformat_minor": 5
}
